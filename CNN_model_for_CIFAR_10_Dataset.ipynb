{
  "nbformat": 4,
  "nbformat_minor": 0,
  "metadata": {
    "colab": {
      "name": "CNN model for CIFAR-10 Dataset",
      "provenance": [],
      "authorship_tag": "ABX9TyOD9OnxbMWZG6ZvGfus42BU",
      "include_colab_link": true
    },
    "kernelspec": {
      "name": "python3",
      "display_name": "Python 3"
    },
    "language_info": {
      "name": "python"
    },
    "accelerator": "GPU"
  },
  "cells": [
    {
      "cell_type": "markdown",
      "metadata": {
        "id": "view-in-github",
        "colab_type": "text"
      },
      "source": [
        "<a href=\"https://colab.research.google.com/github/ThomasFurtado/Git-Github-ccurso/blob/master/CNN_model_for_CIFAR_10_Dataset.ipynb\" target=\"_parent\"><img src=\"https://colab.research.google.com/assets/colab-badge.svg\" alt=\"Open In Colab\"/></a>"
      ]
    },
    {
      "cell_type": "code",
      "metadata": {
        "id": "bpb2ZEd_RALy"
      },
      "source": [
        "import pandas as pd\n",
        "import numpy as np\n",
        "import tensorflow as tf\n",
        "from tensorflow import keras\n",
        "from keras.models import Sequential\n",
        "from keras.layers import Dense, Dropout, Flatten, BatchNormalization, Activation\n",
        "from keras.layers.convolutional import Conv2D, MaxPooling2D\n",
        "from keras.constraints import maxnorm\n",
        "from keras.utils import np_utils"
      ],
      "execution_count": 2,
      "outputs": []
    },
    {
      "cell_type": "code",
      "metadata": {
        "id": "RU4wIKbhda56"
      },
      "source": [
        "from numpy import random\n",
        "import numpy"
      ],
      "execution_count": 3,
      "outputs": []
    },
    {
      "cell_type": "code",
      "metadata": {
        "id": "6CSF5R5USCAq"
      },
      "source": [
        "from keras.datasets import cifar10"
      ],
      "execution_count": 4,
      "outputs": []
    },
    {
      "cell_type": "code",
      "metadata": {
        "id": "RwTVQTpKc48s"
      },
      "source": [
        "seed=21"
      ],
      "execution_count": 5,
      "outputs": []
    },
    {
      "cell_type": "code",
      "metadata": {
        "colab": {
          "base_uri": "https://localhost:8080/"
        },
        "id": "PyKsx1AGSGyG",
        "outputId": "c14f390b-2b31-4bd1-f54a-f6669f694505"
      },
      "source": [
        "(X_train, y_train), (X_test, y_test) = cifar10.load_data()"
      ],
      "execution_count": 6,
      "outputs": [
        {
          "output_type": "stream",
          "text": [
            "Downloading data from https://www.cs.toronto.edu/~kriz/cifar-10-python.tar.gz\n",
            "170500096/170498071 [==============================] - 4s 0us/step\n",
            "170508288/170498071 [==============================] - 4s 0us/step\n"
          ],
          "name": "stdout"
        }
      ]
    },
    {
      "cell_type": "code",
      "metadata": {
        "colab": {
          "base_uri": "https://localhost:8080/"
        },
        "id": "K06A7_e4SNJj",
        "outputId": "c497a372-9442-4e6d-f13d-669349cbbaa4"
      },
      "source": [
        "X_train.shape"
      ],
      "execution_count": 7,
      "outputs": [
        {
          "output_type": "execute_result",
          "data": {
            "text/plain": [
              "(50000, 32, 32, 3)"
            ]
          },
          "metadata": {
            "tags": []
          },
          "execution_count": 7
        }
      ]
    },
    {
      "cell_type": "code",
      "metadata": {
        "id": "omDaD-uxSPGX"
      },
      "source": [
        "X_train = X_train.astype('float32')\n",
        "X_test = X_test.astype('float32')\n",
        "X_train = X_train/255\n",
        "X_test = X_test/255"
      ],
      "execution_count": 8,
      "outputs": []
    },
    {
      "cell_type": "code",
      "metadata": {
        "colab": {
          "base_uri": "https://localhost:8080/"
        },
        "id": "eqkaRU9sSlUD",
        "outputId": "953b7bcc-bd95-41ad-d6a1-8cbd77110d15"
      },
      "source": [
        "X_train.shape[1:]"
      ],
      "execution_count": 9,
      "outputs": [
        {
          "output_type": "execute_result",
          "data": {
            "text/plain": [
              "(32, 32, 3)"
            ]
          },
          "metadata": {
            "tags": []
          },
          "execution_count": 9
        }
      ]
    },
    {
      "cell_type": "code",
      "metadata": {
        "colab": {
          "base_uri": "https://localhost:8080/"
        },
        "id": "tGTP_YxkSmps",
        "outputId": "889b6e5f-1e1b-4f9e-877c-9f8be6e81f1c"
      },
      "source": [
        "y_train.reshape(-1,)"
      ],
      "execution_count": 10,
      "outputs": [
        {
          "output_type": "execute_result",
          "data": {
            "text/plain": [
              "array([6, 9, 9, ..., 9, 1, 1], dtype=uint8)"
            ]
          },
          "metadata": {
            "tags": []
          },
          "execution_count": 10
        }
      ]
    },
    {
      "cell_type": "code",
      "metadata": {
        "colab": {
          "base_uri": "https://localhost:8080/"
        },
        "id": "AC12RgBAUfth",
        "outputId": "3c3301f5-02b7-4d6c-d4fb-91a66459ce9c"
      },
      "source": [
        "y_train.shape"
      ],
      "execution_count": 11,
      "outputs": [
        {
          "output_type": "execute_result",
          "data": {
            "text/plain": [
              "(50000, 1)"
            ]
          },
          "metadata": {
            "tags": []
          },
          "execution_count": 11
        }
      ]
    },
    {
      "cell_type": "code",
      "metadata": {
        "id": "QAOT35nFSt4D"
      },
      "source": [
        "y_train = np_utils.to_categorical(y_train)\n",
        "y_test = np_utils.to_categorical(y_test)\n",
        "class_num = y_test.shape[1]"
      ],
      "execution_count": 12,
      "outputs": []
    },
    {
      "cell_type": "code",
      "metadata": {
        "colab": {
          "base_uri": "https://localhost:8080/"
        },
        "id": "jkVDFaQvUa9L",
        "outputId": "a4b4e880-0b06-4553-c619-69cd026052ca"
      },
      "source": [
        "y_train.shape"
      ],
      "execution_count": 13,
      "outputs": [
        {
          "output_type": "execute_result",
          "data": {
            "text/plain": [
              "(50000, 10)"
            ]
          },
          "metadata": {
            "tags": []
          },
          "execution_count": 13
        }
      ]
    },
    {
      "cell_type": "code",
      "metadata": {
        "id": "AEFC7TILUkih"
      },
      "source": [
        "model = Sequential()"
      ],
      "execution_count": 14,
      "outputs": []
    },
    {
      "cell_type": "code",
      "metadata": {
        "id": "uCTTdepoU1sk"
      },
      "source": [
        "model.add(Conv2D(32, (3,3), input_shape=(32,32,3), padding='same'))\n",
        "model.add(Activation('relu'))"
      ],
      "execution_count": 15,
      "outputs": []
    },
    {
      "cell_type": "code",
      "metadata": {
        "id": "CM9uuhLzVHHM"
      },
      "source": [
        "model.add(Dropout(0.2))\n",
        "model.add(BatchNormalization())"
      ],
      "execution_count": 16,
      "outputs": []
    },
    {
      "cell_type": "code",
      "metadata": {
        "id": "qFlAcA6OVfRq"
      },
      "source": [
        "model.add(Conv2D(64, (3,3), padding='same'))\n",
        "model.add(Activation('relu'))"
      ],
      "execution_count": 17,
      "outputs": []
    },
    {
      "cell_type": "code",
      "metadata": {
        "id": "5PNcvpRuauka"
      },
      "source": [
        "model.add(MaxPooling2D(pool_size=(2,2)))\n",
        "model.add(Dropout(0.2))\n",
        "model.add(BatchNormalization())"
      ],
      "execution_count": 18,
      "outputs": []
    },
    {
      "cell_type": "code",
      "metadata": {
        "id": "9_dx2hpcbECM"
      },
      "source": [
        "model.add(Conv2D(64, (3,3), padding='same'))\n",
        "model.add(Activation('relu'))\n",
        "model.add(MaxPooling2D(pool_size=(2,2)))\n",
        "model.add(Dropout(0.2))\n",
        "model.add(BatchNormalization())\n",
        "\n",
        "model.add(Conv2D(128, (3,3), padding='same'))\n",
        "model.add(Activation('relu'))\n",
        "model.add(Dropout(0.2))\n",
        "model.add(BatchNormalization())"
      ],
      "execution_count": 19,
      "outputs": []
    },
    {
      "cell_type": "code",
      "metadata": {
        "id": "ccuTDKq1bWFa"
      },
      "source": [
        "model.add(Flatten())\n",
        "model.add(Dropout(0.2))"
      ],
      "execution_count": 20,
      "outputs": []
    },
    {
      "cell_type": "code",
      "metadata": {
        "id": "6CdBb9J_bfB1"
      },
      "source": [
        "model.add(Dense(256, kernel_constraint=maxnorm(3)))\n",
        "model.add(Activation('relu'))\n",
        "model.add(Dropout(0.2))\n",
        "model.add(BatchNormalization())\n",
        "\n",
        "model.add(Dense(128, kernel_constraint=maxnorm(3)))\n",
        "model.add(Activation('relu'))\n",
        "model.add(Dropout(0.2))\n",
        "model.add(BatchNormalization())"
      ],
      "execution_count": 21,
      "outputs": []
    },
    {
      "cell_type": "code",
      "metadata": {
        "colab": {
          "base_uri": "https://localhost:8080/"
        },
        "id": "HBN27ETBcClT",
        "outputId": "b5a5b6c2-a7af-4d89-eeec-69c48661cc21"
      },
      "source": [
        "class_num"
      ],
      "execution_count": 22,
      "outputs": [
        {
          "output_type": "execute_result",
          "data": {
            "text/plain": [
              "10"
            ]
          },
          "metadata": {
            "tags": []
          },
          "execution_count": 22
        }
      ]
    },
    {
      "cell_type": "code",
      "metadata": {
        "id": "JZLD8AMBcUH6"
      },
      "source": [
        "model.add(Dense(class_num))\n",
        "model.add(Activation('softmax'))"
      ],
      "execution_count": 23,
      "outputs": []
    },
    {
      "cell_type": "code",
      "metadata": {
        "id": "1rtfzCqdcf4U"
      },
      "source": [
        "epochs=25\n",
        "optimizer = 'adam'"
      ],
      "execution_count": 24,
      "outputs": []
    },
    {
      "cell_type": "code",
      "metadata": {
        "id": "25b0sxqdcj-N"
      },
      "source": [
        "model.compile(optimizer=optimizer,\n",
        "              loss='categorical_crossentropy',\n",
        "              metrics=['accuracy'])"
      ],
      "execution_count": 25,
      "outputs": []
    },
    {
      "cell_type": "code",
      "metadata": {
        "id": "rc0ceB74cs7R"
      },
      "source": [
        "#model.summary()"
      ],
      "execution_count": 26,
      "outputs": []
    },
    {
      "cell_type": "code",
      "metadata": {
        "colab": {
          "base_uri": "https://localhost:8080/"
        },
        "id": "gSLN_MEqcwho",
        "outputId": "66e3f4c3-8c8a-42f9-812b-19c4399c6d16"
      },
      "source": [
        "numpy.random.seed(seed)\n",
        "model.fit(X_train, y_train, validation_data=(X_test, y_test), epochs=epochs, batch_size=64)"
      ],
      "execution_count": 27,
      "outputs": [
        {
          "output_type": "stream",
          "text": [
            "Epoch 1/25\n",
            "782/782 [==============================] - 41s 12ms/step - loss: 1.5371 - accuracy: 0.4533 - val_loss: 1.2161 - val_accuracy: 0.5546\n",
            "Epoch 2/25\n",
            "782/782 [==============================] - 8s 11ms/step - loss: 1.0597 - accuracy: 0.6252 - val_loss: 0.9248 - val_accuracy: 0.6719\n",
            "Epoch 3/25\n",
            "782/782 [==============================] - 8s 11ms/step - loss: 0.8669 - accuracy: 0.6976 - val_loss: 0.8496 - val_accuracy: 0.6964\n",
            "Epoch 4/25\n",
            "782/782 [==============================] - 8s 11ms/step - loss: 0.7705 - accuracy: 0.7302 - val_loss: 0.6690 - val_accuracy: 0.7592\n",
            "Epoch 5/25\n",
            "782/782 [==============================] - 8s 11ms/step - loss: 0.6995 - accuracy: 0.7543 - val_loss: 0.6989 - val_accuracy: 0.7542\n",
            "Epoch 6/25\n",
            "782/782 [==============================] - 8s 11ms/step - loss: 0.6625 - accuracy: 0.7682 - val_loss: 0.6768 - val_accuracy: 0.7618\n",
            "Epoch 7/25\n",
            "782/782 [==============================] - 8s 11ms/step - loss: 0.6259 - accuracy: 0.7806 - val_loss: 0.7039 - val_accuracy: 0.7597\n",
            "Epoch 8/25\n",
            "782/782 [==============================] - 9s 11ms/step - loss: 0.5980 - accuracy: 0.7920 - val_loss: 0.5817 - val_accuracy: 0.7977\n",
            "Epoch 9/25\n",
            "782/782 [==============================] - 9s 11ms/step - loss: 0.5685 - accuracy: 0.8033 - val_loss: 0.6234 - val_accuracy: 0.7875\n",
            "Epoch 10/25\n",
            "782/782 [==============================] - 9s 11ms/step - loss: 0.5508 - accuracy: 0.8079 - val_loss: 0.5645 - val_accuracy: 0.8019\n",
            "Epoch 11/25\n",
            "782/782 [==============================] - 9s 11ms/step - loss: 0.5325 - accuracy: 0.8131 - val_loss: 0.6858 - val_accuracy: 0.7695\n",
            "Epoch 12/25\n",
            "782/782 [==============================] - 8s 11ms/step - loss: 0.5188 - accuracy: 0.8177 - val_loss: 0.6157 - val_accuracy: 0.7870\n",
            "Epoch 13/25\n",
            "782/782 [==============================] - 8s 11ms/step - loss: 0.4999 - accuracy: 0.8258 - val_loss: 0.5620 - val_accuracy: 0.8085\n",
            "Epoch 14/25\n",
            "782/782 [==============================] - 8s 11ms/step - loss: 0.4979 - accuracy: 0.8249 - val_loss: 0.5788 - val_accuracy: 0.8004\n",
            "Epoch 15/25\n",
            "782/782 [==============================] - 8s 11ms/step - loss: 0.4817 - accuracy: 0.8328 - val_loss: 0.5779 - val_accuracy: 0.8037\n",
            "Epoch 16/25\n",
            "782/782 [==============================] - 9s 11ms/step - loss: 0.4735 - accuracy: 0.8354 - val_loss: 0.5912 - val_accuracy: 0.7955\n",
            "Epoch 17/25\n",
            "782/782 [==============================] - 8s 11ms/step - loss: 0.4646 - accuracy: 0.8366 - val_loss: 0.5530 - val_accuracy: 0.8155\n",
            "Epoch 18/25\n",
            "782/782 [==============================] - 8s 11ms/step - loss: 0.4577 - accuracy: 0.8395 - val_loss: 0.5316 - val_accuracy: 0.8225\n",
            "Epoch 19/25\n",
            "782/782 [==============================] - 9s 11ms/step - loss: 0.4421 - accuracy: 0.8461 - val_loss: 0.5701 - val_accuracy: 0.8080\n",
            "Epoch 20/25\n",
            "782/782 [==============================] - 9s 11ms/step - loss: 0.4383 - accuracy: 0.8471 - val_loss: 0.5449 - val_accuracy: 0.8156\n",
            "Epoch 21/25\n",
            "782/782 [==============================] - 8s 11ms/step - loss: 0.4320 - accuracy: 0.8496 - val_loss: 0.5097 - val_accuracy: 0.8267\n",
            "Epoch 22/25\n",
            "782/782 [==============================] - 8s 11ms/step - loss: 0.4287 - accuracy: 0.8508 - val_loss: 0.5180 - val_accuracy: 0.8236\n",
            "Epoch 23/25\n",
            "782/782 [==============================] - 9s 11ms/step - loss: 0.4222 - accuracy: 0.8504 - val_loss: 0.5251 - val_accuracy: 0.8242\n",
            "Epoch 24/25\n",
            "782/782 [==============================] - 9s 11ms/step - loss: 0.4188 - accuracy: 0.8516 - val_loss: 0.5249 - val_accuracy: 0.8194\n",
            "Epoch 25/25\n",
            "782/782 [==============================] - 8s 11ms/step - loss: 0.4079 - accuracy: 0.8568 - val_loss: 0.5077 - val_accuracy: 0.8322\n"
          ],
          "name": "stdout"
        },
        {
          "output_type": "execute_result",
          "data": {
            "text/plain": [
              "<keras.callbacks.History at 0x7f7050064a10>"
            ]
          },
          "metadata": {
            "tags": []
          },
          "execution_count": 27
        }
      ]
    },
    {
      "cell_type": "code",
      "metadata": {
        "colab": {
          "base_uri": "https://localhost:8080/"
        },
        "id": "dYChqxkldRNO",
        "outputId": "e3dab8c9-6ebe-4043-f95b-152846c3147f"
      },
      "source": [
        "model.evaluate(X_test, y_test)"
      ],
      "execution_count": 28,
      "outputs": [
        {
          "output_type": "stream",
          "text": [
            "313/313 [==============================] - 1s 3ms/step - loss: 0.5077 - accuracy: 0.8322\n"
          ],
          "name": "stdout"
        },
        {
          "output_type": "execute_result",
          "data": {
            "text/plain": [
              "[0.5077162384986877, 0.8321999907493591]"
            ]
          },
          "metadata": {
            "tags": []
          },
          "execution_count": 28
        }
      ]
    },
    {
      "cell_type": "code",
      "metadata": {
        "id": "LFgYgW5BjyVi"
      },
      "source": [
        ""
      ],
      "execution_count": null,
      "outputs": []
    }
  ]
}